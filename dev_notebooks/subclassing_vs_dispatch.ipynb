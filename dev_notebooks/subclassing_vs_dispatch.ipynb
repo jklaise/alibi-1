{
 "cells": [
  {
   "cell_type": "code",
   "execution_count": 1,
   "metadata": {},
   "outputs": [],
   "source": [
    "from functools import singledispatch"
   ]
  },
  {
   "cell_type": "markdown",
   "metadata": {},
   "source": [
    "## Currently proposed implementation (simplified)"
   ]
  },
  {
   "cell_type": "markdown",
   "metadata": {},
   "source": [
    "Here there is just one `Explanation` object which is the same for any explanation method. To distinguish between different explanations one can use the `name` attribute. Here, we use the `name` attribute to dynamically dispatch a call to the generic `show` function to the conrete `show_concrete` function.\n",
    "\n",
    "Features:\n",
    " - top level e.g. `alibi.show` function for visualizing any explanation\n",
    " - the explanation method `exp.show` just calls `alibi.show(self)`\n",
    " - `alibi.show(exp)` dispatches to `show_concrete` dynamically based on `exp.name`\n",
    "\n",
    "Issues:\n",
    " - How do we make the docstring in `show_concrete` show up when calling `help(concrete_explanation.show)` ? This is likely impossible as we dispatch on a runtime attribute. **This is a crucial requirement as concrete methods will take different arguments depending on the explanation.**\n",
    " - The top level `show` function can't by design show explanation specific arguments in any case\n",
    " \n",
    "Advantages:\n",
    " - No need to subclass `Explanation`\n",
    " \n",
    "Disadvantages:\n",
    " - Methods shared between many different explanations, e.g. some might not make sense but would still have to be defined at the `Explanation` implementation even if only to raise `NotImplementedError`\n",
    " - How to dispatch methods to concrete implementations but retain the docstrings when calling `help`?"
   ]
  },
  {
   "cell_type": "code",
   "execution_count": 2,
   "metadata": {},
   "outputs": [],
   "source": [
    "class Explanation:\n",
    "    \n",
    "    def __init__(self, name):\n",
    "        self.name = name\n",
    "        \n",
    "    def show(self, **kwargs):\n",
    "        \"\"\"\n",
    "        Explanation bound method `show` docstring\n",
    "        \"\"\"\n",
    "        return show(self, **kwargs)\n",
    "\n",
    "\n",
    "def show_concrete(exp: Explanation, **kwargs):\n",
    "    \"\"\"\n",
    "    Concrete `show` docstring\n",
    "    \"\"\"\n",
    "    \n",
    "    print('show_concrete called')\n",
    "\n",
    "\n",
    "DISPATCH_DICT = {'concrete': show_concrete}\n",
    "\n",
    "\n",
    "def show(exp: Explanation, **kwargs):\n",
    "    \"\"\"\n",
    "    Top level `show` docstring\n",
    "    \"\"\"\n",
    "    try:\n",
    "        DISPATCH_DICT[exp.name](exp, **kwargs)\n",
    "    except KeyError:\n",
    "        raise NotImplementedError(f\"Visualization for `{exp.name}` not implemented\")"
   ]
  },
  {
   "cell_type": "code",
   "execution_count": 3,
   "metadata": {},
   "outputs": [],
   "source": [
    "concrete = Explanation(name='concrete')"
   ]
  },
  {
   "cell_type": "code",
   "execution_count": 4,
   "metadata": {},
   "outputs": [
    {
     "name": "stdout",
     "output_type": "stream",
     "text": [
      "show_concrete called\n"
     ]
    }
   ],
   "source": [
    "concrete.show()"
   ]
  },
  {
   "cell_type": "code",
   "execution_count": 5,
   "metadata": {},
   "outputs": [
    {
     "name": "stdout",
     "output_type": "stream",
     "text": [
      "Help on method show in module __main__:\n",
      "\n",
      "show(**kwargs) method of __main__.Explanation instance\n",
      "    Explanation bound method `show` docstring\n",
      "\n"
     ]
    }
   ],
   "source": [
    "# actual implementation docstring not shown, NEED to fix\n",
    "help(concrete.show)"
   ]
  },
  {
   "cell_type": "code",
   "execution_count": 6,
   "metadata": {},
   "outputs": [
    {
     "name": "stdout",
     "output_type": "stream",
     "text": [
      "Help on function show in module __main__:\n",
      "\n",
      "show(exp: __main__.Explanation, **kwargs)\n",
      "    Top level `show` docstring\n",
      "\n"
     ]
    }
   ],
   "source": [
    "# actual implementation docstring not shown, CANNOT FIX\n",
    "help(show)"
   ]
  },
  {
   "cell_type": "markdown",
   "metadata": {},
   "source": [
    "## Explicit subclassing"
   ]
  },
  {
   "cell_type": "markdown",
   "metadata": {},
   "source": [
    "Here we have a traditional approach where the base `Explanation` class only defines an interface and is not meant to be instantiated. What is instantiated eventually is a `ConcreteExplanation` object which overrides the `show` method and the docstring shows correctly.\n",
    "\n",
    "The top level `show` function can now be implemented using `@singledispatch` decorator instead of manually dispatching on the `name` attribute. However, it still can't by design show explanation specific arguments in any case. This raises the question whether a top level `show` function is of any use.\n",
    "\n",
    "Advantages:\n",
    " - Explicit overriding of `show` method for explanation subclasses\n",
    " - No `mypy` issues with \"non-existent attributes\" when trying to write a `show_concrete` implementation on a generic `Explanation` object\n",
    " - In the future allows for more specialized/granular methods for explanations, e.g. `show_all` might make sense for only a subset of explanations\n",
    "\n",
    "Disadvantages:\n",
    " - For every explanation type need to write a subclass"
   ]
  },
  {
   "cell_type": "code",
   "execution_count": 7,
   "metadata": {},
   "outputs": [],
   "source": [
    "class Explanation:\n",
    "    def __init__(self, name):\n",
    "        self.name = name\n",
    "        \n",
    "    def show(self):\n",
    "        \"\"\"\n",
    "        Explanation bound method `show` docstring\n",
    "        \"\"\"\n",
    "        raise NotImplementedError(f\"Visualization for {self.name} is not available\")\n",
    "\n",
    "class ConcreteExplanation(Explanation):\n",
    "    \n",
    "    def __init__(self, name):\n",
    "        super().__init__(name)\n",
    "        \n",
    "    def show(self):\n",
    "        \"\"\"\n",
    "        Concrete `show` docstring\n",
    "        \"\"\"\n",
    "        print(\"show_concrete called\")\n",
    "        \n",
    "@singledispatch\n",
    "def show(explanation):\n",
    "    \"\"\"\n",
    "    Top level `show` docstring\n",
    "    \"\"\"\n",
    "    raise NotImplementedError()\n",
    "    \n",
    "@show.register\n",
    "def _(explanation: ConcreteExplanation):\n",
    "    \"\"\"\n",
    "    Dispatched `show` docstring\n",
    "    \"\"\"\n",
    "    print(\"dispatched `show` called\")"
   ]
  },
  {
   "cell_type": "code",
   "execution_count": 8,
   "metadata": {},
   "outputs": [],
   "source": [
    "concrete2 = ConcreteExplanation(name='concrete2')"
   ]
  },
  {
   "cell_type": "code",
   "execution_count": 9,
   "metadata": {},
   "outputs": [
    {
     "name": "stdout",
     "output_type": "stream",
     "text": [
      "show_concrete called\n"
     ]
    }
   ],
   "source": [
    "concrete2.show()"
   ]
  },
  {
   "cell_type": "code",
   "execution_count": 10,
   "metadata": {},
   "outputs": [
    {
     "name": "stdout",
     "output_type": "stream",
     "text": [
      "Help on method show in module __main__:\n",
      "\n",
      "show() method of __main__.ConcreteExplanation instance\n",
      "    Concrete `show` docstring\n",
      "\n"
     ]
    }
   ],
   "source": [
    "# actual implementation docstring is shown, FIXED\n",
    "help(concrete2.show)"
   ]
  },
  {
   "cell_type": "code",
   "execution_count": 11,
   "metadata": {},
   "outputs": [
    {
     "name": "stdout",
     "output_type": "stream",
     "text": [
      "Help on function show in module __main__:\n",
      "\n",
      "show(explanation)\n",
      "    Top level `show` docstring\n",
      "\n"
     ]
    }
   ],
   "source": [
    "# actual implementation docstring not shown, CANNOT FIX\n",
    "help(show)"
   ]
  },
  {
   "cell_type": "markdown",
   "metadata": {},
   "source": [
    "## Proposal"
   ]
  },
  {
   "cell_type": "markdown",
   "metadata": {},
   "source": [
    "In light of the experiments above I would propose:\n",
    " - moving to subclassing for concrete explanations as this would enable more flexibility in the subsequent bound method design\n",
    " - not implementing a top level `alibi.show` function as the use cases seem limited especially with no way to display the correct docstring"
   ]
  }
 ],
 "metadata": {
  "kernelspec": {
   "display_name": "Python [conda env:.conda-py37] *",
   "language": "python",
   "name": "conda-env-.conda-py37-py"
  },
  "language_info": {
   "codemirror_mode": {
    "name": "ipython",
    "version": 3
   },
   "file_extension": ".py",
   "mimetype": "text/x-python",
   "name": "python",
   "nbconvert_exporter": "python",
   "pygments_lexer": "ipython3",
   "version": "3.7.3"
  }
 },
 "nbformat": 4,
 "nbformat_minor": 4
}
